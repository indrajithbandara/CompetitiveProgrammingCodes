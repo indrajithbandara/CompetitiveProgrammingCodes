{
 "cells": [
  {
   "cell_type": "markdown",
   "metadata": {},
   "source": [
    "# Suffix array"
   ]
  },
  {
   "cell_type": "code",
   "execution_count": 1,
   "metadata": {
    "collapsed": true
   },
   "outputs": [],
   "source": [
    "function co(s){console.log(s);}"
   ]
  },
  {
   "cell_type": "code",
   "execution_count": 2,
   "metadata": {
    "collapsed": true
   },
   "outputs": [],
   "source": [
    "// suffix array maker\n",
    "function createSuffixArray(s){\n",
    "    let suffixArray = new Array();\n",
    "    let n = s.length;\n",
    "    co(n);\n",
    "    for(let i = 0; i < n; i++){\n",
    "        suffixArray.push({\n",
    "            string : s.substring(i),\n",
    "            index : i\n",
    "        });\n",
    "    }\n",
    "    suffixArray.sort(function(a, b){\n",
    "        return a.string > b.string ? true : false;\n",
    "    });\n",
    "    co(suffixArray);\n",
    "    return suffixArray;\n",
    "}"
   ]
  },
  {
   "cell_type": "code",
   "execution_count": 3,
   "metadata": {
    "collapsed": true
   },
   "outputs": [],
   "source": [
    "// function that compares first n characters of string 1 and 2\n",
    "function strncmp(string1, string2, n){\n",
    "    for(let i = 0; i < n; i++){\n",
    "        if(string1.charCodeAt(i) < string2.charCodeAt(i)){\n",
    "            return -1;\n",
    "        }else if(string1.charCodeAt(i) > string2.charCodeAt(i)){\n",
    "            return 1;\n",
    "        }\n",
    "    }\n",
    "    return 0;\n",
    "}"
   ]
  },
  {
   "cell_type": "code",
   "execution_count": 6,
   "metadata": {
    "collapsed": true
   },
   "outputs": [],
   "source": [
    "// search function\n",
    "function search(text, pattern, suffixArray){\n",
    "    let m = pattern.length;\n",
    "    let n = text.length;\n",
    "    \n",
    "    // binary search karenge buoy\n",
    "    let l = 0, r = n - 1;\n",
    "    while(l <= r){\n",
    "        let mid = l + parseInt((r - l) / 2);\n",
    "        co(mid);\n",
    "        let res = strncmp(pattern, text.substring(suffixArray[mid].index), m);\n",
    "        co(res);\n",
    "        if(res == 0){\n",
    "            // found\n",
    "            co(text.substring(suffixArray[mid].index) + \" \" + suffixArray[mid].index);\n",
    "            break;\n",
    "        }else if (res < 0){\n",
    "            r = mid - 1;\n",
    "        }else{\n",
    "            l = mid + 1;\n",
    "        }\n",
    "    }\n",
    "}"
   ]
  },
  {
   "cell_type": "code",
   "execution_count": 8,
   "metadata": {},
   "outputs": [
    {
     "name": "stdout",
     "output_type": "stream",
     "text": [
      "11\n",
      "[ { string: 'ssippi', index: 5 },\n",
      "  { string: 'i', index: 10 },\n",
      "  { string: 'ippi', index: 7 },\n",
      "  { string: 'issippi', index: 4 },\n",
      "  { string: 'ississippi', index: 1 },\n",
      "  { string: 'mississippi', index: 0 },\n",
      "  { string: 'pi', index: 9 },\n",
      "  { string: 'ppi', index: 8 },\n",
      "  { string: 'sippi', index: 6 },\n",
      "  { string: 'sissippi', index: 3 },\n",
      "  { string: 'ssissippi', index: 2 } ]\n",
      "5\n",
      "-1\n",
      "2\n",
      "0\n",
      "ippi 7\n"
     ]
    }
   ],
   "source": [
    "(function(){\n",
    "    let text = \"mississippi\";\n",
    "    let suffixArray = createSuffixArray(text);\n",
    "    search(text, \"ippi\", suffixArray);\n",
    "})();"
   ]
  }
 ],
 "metadata": {
  "kernelspec": {
   "display_name": "Javascript (Node.js)",
   "language": "javascript",
   "name": "javascript"
  },
  "language_info": {
   "file_extension": ".js",
   "mimetype": "application/javascript",
   "name": "javascript",
   "version": "6.10.2"
  }
 },
 "nbformat": 4,
 "nbformat_minor": 2
}
