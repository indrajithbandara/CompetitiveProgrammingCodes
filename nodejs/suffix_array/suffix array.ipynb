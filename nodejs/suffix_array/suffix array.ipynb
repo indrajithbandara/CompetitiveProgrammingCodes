{
 "cells": [
  {
   "cell_type": "code",
   "execution_count": 1,
   "metadata": {
    "collapsed": true
   },
   "outputs": [],
   "source": [
    "function co(s){console.log(s);}\n",
    "\n",
    "function printSuffixes(text, suffixes){\n",
    "    let n = suffixes.length;\n",
    "    co(n)\n",
    "    for(let i=0;i<n;i++){\n",
    "    co(text.substring(suffixes[i].index) + \" \" + suffixes[i].rank1 + \" \" + suffixes[i].rank2)\n",
    "    }\n",
    "}"
   ]
  },
  {
   "cell_type": "code",
   "execution_count": 4,
   "metadata": {
    "collapsed": true
   },
   "outputs": [],
   "source": [
    "function buildSuffixArray(text){\n",
    "    let n = text.length;\n",
    "    let suffixes = new Array(n);\n",
    "    for(let i=0;i<n;i++){\n",
    "        suffixes[i] = {\n",
    "            index: i,\n",
    "            rank1: text.charCodeAt(i) - 'a'.charCodeAt(),\n",
    "            rank2: i + 1 < n ? text.charCodeAt(i + 1) - 'a'.charCodeAt() : -1\n",
    "        }\n",
    "    }\n",
    "    //printSuffixes(text, suffixes);\n",
    "    suffixes.sort(function(a, b){\n",
    "        return a.rank1 == b.rank1 ? (a.rank1 < b.rank1 ? true : false) :\n",
    "            (a.rank2 < b.rank2 ? true : false);\n",
    "    });\n",
    "    //printSuffixes(text, suffixes);\n",
    "    \n",
    "    // prefixes are sorted according to the first 2 characters\n",
    "    // now we sort by 4, 8, 16... characters\n",
    "    \n",
    "    let ind = new Array(n); // needed to get index in suffixes from original indices\n",
    "    // this mapping is needed to get next suffix\n",
    "    \n",
    "    for(let k=4;k<2*n;k*=2){\n",
    "        // assigning rank and index values to first suffix\n",
    "        let rank = 0;\n",
    "        let prev_rank = suffixes[0].rank1;\n",
    "        suffixes[0].rank1 = rank;\n",
    "        ind[suffixes[0].index] = 0;\n",
    "        \n",
    "        // assign ranks to suffixes\n",
    "        for(let i = 1; i < n; i++){\n",
    "            // if first rank and next ranks are same as previous suffix,\n",
    "            // assign the same new rank to this suffix\n",
    "            if(suffixes[i].rank1 == prev_rank &&\n",
    "                  suffixes[i].rank2 == suffixes[i - 1].rank2){\n",
    "                prev_rank = suffixes[i].rank1;\n",
    "                suffixes[i].rank1 = rank;\n",
    "            }else{\n",
    "                // increment rank and assign\n",
    "                prev_rank = suffixes[i].rank1;\n",
    "                suffixes[i].rank1 = ++rank;\n",
    "            }\n",
    "            \n",
    "            ind[suffixes[i].index] = i;\n",
    "        }\n",
    "        \n",
    "        // assign next rank to every suffix\n",
    "        for(let i = 0; i < n; i++){\n",
    "            let next_index = suffixes[i].index + k / 2;\n",
    "            suffixes[i].rank2 = (next_index < n) ?\n",
    "                                    suffixes[ind[next_index]].rank1 : -1;\n",
    "        }\n",
    "\n",
    "        suffixes.sort(function(a, b){\n",
    "            return a.rank1 == b.rank1 ? (a.rank1 < b.rank1 ? true : false) :\n",
    "                (a.rank2 < b.rank2 ? true : false);\n",
    "        });\n",
    "        //printSuffixes(text, suffixes);\n",
    "    }\n",
    "}"
   ]
  },
  {
   "cell_type": "code",
   "execution_count": 6,
   "metadata": {
    "scrolled": true
   },
   "outputs": [],
   "source": [
    "(function(){\n",
    "    buildSuffixArray(\"banana\");\n",
    "})();"
   ]
  }
 ],
 "metadata": {
  "kernelspec": {
   "display_name": "Javascript (Node.js)",
   "language": "javascript",
   "name": "javascript"
  },
  "language_info": {
   "file_extension": ".js",
   "mimetype": "application/javascript",
   "name": "javascript",
   "version": "6.10.2"
  }
 },
 "nbformat": 4,
 "nbformat_minor": 2
}
